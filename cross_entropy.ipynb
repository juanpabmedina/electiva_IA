{
 "cells": [
  {
   "cell_type": "code",
   "execution_count": 2,
   "metadata": {},
   "outputs": [],
   "source": [
    "import numpy as np \n",
    "import pandas as pd\n",
    "from activate_functions import softmax"
   ]
  },
  {
   "cell_type": "code",
   "execution_count": 3,
   "metadata": {},
   "outputs": [],
   "source": [
    "y = np.random.randint(0,3,10)\n",
    "p = softmax(y)"
   ]
  },
  {
   "cell_type": "code",
   "execution_count": 4,
   "metadata": {},
   "outputs": [],
   "source": [
    "def cross_entropy(y,p):\n",
    "    ce = []\n",
    "    for i in range(len(y)):\n",
    "        ce.append(-(y[i]*np.log(p[i]) + (1 - y[i])*np.log(1-p[i])))\n",
    "    ce = sum(ce)\n",
    "    return ce"
   ]
  },
  {
   "cell_type": "code",
   "execution_count": 5,
   "metadata": {},
   "outputs": [
    {
     "data": {
      "text/plain": [
       "14.680031324583696"
      ]
     },
     "execution_count": 5,
     "metadata": {},
     "output_type": "execute_result"
    }
   ],
   "source": [
    "cross_entropy(y,p)"
   ]
  }
 ],
 "metadata": {
  "kernelspec": {
   "display_name": "neural_network_venv",
   "language": "python",
   "name": "python3"
  },
  "language_info": {
   "codemirror_mode": {
    "name": "ipython",
    "version": 3
   },
   "file_extension": ".py",
   "mimetype": "text/x-python",
   "name": "python",
   "nbconvert_exporter": "python",
   "pygments_lexer": "ipython3",
   "version": "3.8.10"
  },
  "orig_nbformat": 4,
  "vscode": {
   "interpreter": {
    "hash": "912bb56563fca6765c1a8b9cf33ae3e152c0c95accbd02374d44a8b895719de4"
   }
  }
 },
 "nbformat": 4,
 "nbformat_minor": 2
}
